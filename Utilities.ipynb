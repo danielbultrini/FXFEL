{
 "cells": [
  {
   "cell_type": "markdown",
   "metadata": {},
   "source": [
    "### FEL_equations.py\n",
    "This module has a few FEL equations that are used to process the data, this may need to be reviewed and expanded slightly as for now it only offers approximations, but as long as the return values are kept constant the rest of the code will work fine. As currently implemented, most of the parameters are simple 1D back of the envelope calculations, but it is possible to implement your own within the framework.\n"
   ]
  },
  {
   "cell_type": "markdown",
   "metadata": {},
   "source": [
    "### file_processor.py\n",
    "This module includes very simple file processing routines, check the docstrings for a description of what they do.\n"
   ]
  },
  {
   "cell_type": "code",
   "execution_count": null,
   "metadata": {
    "collapsed": true
   },
   "outputs": [],
   "source": []
  }
 ],
 "metadata": {
  "kernelspec": {
   "display_name": "Python 2",
   "language": "python",
   "name": "python2"
  },
  "language_info": {
   "codemirror_mode": {
    "name": "ipython",
    "version": 2
   },
   "file_extension": ".py",
   "mimetype": "text/x-python",
   "name": "python",
   "nbconvert_exporter": "python",
   "pygments_lexer": "ipython2",
   "version": "2.7.13"
  }
 },
 "nbformat": 4,
 "nbformat_minor": 2
}
