{
 "cells": [
  {
   "cell_type": "markdown",
   "metadata": {},
   "source": [
    "#### Plotting\n",
    "Using Bokeh it is possible to display all the plots in an interactive fashion and this library provides a simple way to generate a large number of default plots per file and also allows for plotting any combination of parameters. It is also possible to generate 'interactive' plots that allow you to use a slider to move through the start to end simulation.\n"
   ]
  },
  {
   "cell_type": "code",
   "execution_count": 1,
   "metadata": {},
   "outputs": [],
   "source": [
    "from particle_distribution import processing_tools as pt\n",
    "\n",
    "filepath = '/home/daniel_b/Documents/Summer_project/example.h5'\n",
    "FEL = pt.ProcessedData(filepath,num_slices=100,undulator_period=0.00275,k_fact=2.7)"
   ]
  },
  {
   "cell_type": "markdown",
   "metadata": {},
   "source": [
    "The default plots are very easy to call and this can be done by passing a computed object into the plotting class. This is most easily done by using the ProcessedData class directly, as this ensures that all the necessary calculations will have been done. This is not necessary, and the class will allow you to do your own plotting routines on raw data, but the defaults might complain or call processing routines themselves. \n",
    "\n",
    "prepare_defaults() generates a standard set of plots in a dictionary called 'plots' whose keys are generally in the format 'x-axis_y-axis' where the axes are taken from the directory dictionary of the dataset. But two line plots are hard coded and only show the y axis."
   ]
  },
  {
   "cell_type": "code",
   "execution_count": 2,
   "metadata": {
    "scrolled": true
   },
   "outputs": [],
   "source": [
    "plots = pt.Bokeh_Plotting(FEL)  #to save pngs you need 'npm install -g phantomjs-prebuilt'\n",
    "plots.prepare_defaults(file_name='test')\n",
    "plots.plot_defaults(show_html=True)"
   ]
  },
  {
   "cell_type": "markdown",
   "metadata": {},
   "source": [
    "This generates a filename.html file that can be opened in any browser. For large datasets automatic binning will be implemented so that the raw data scatter plots do not fill up memory or make the file unusable. To create custom plots one can call custom_plot. This will overwrite the files generated above, so it is reccomended that file_name be filled in"
   ]
  },
  {
   "cell_type": "code",
   "execution_count": null,
   "metadata": {},
   "outputs": [],
   "source": [
    "a = plots.custom_plot(x_axis='x', y_axis='y', key='pop', plotter='circle', color='pink',\n",
    "                  file_name='transverse', text_color='black', Legend='thing', \n",
    "                      title='Transverse position', save_png= False)"
   ]
  },
  {
   "cell_type": "markdown",
   "metadata": {},
   "source": [
    "By importing the following modules one can show plots within the notebook, or alternatively through ipython"
   ]
  },
  {
   "cell_type": "code",
   "execution_count": null,
   "metadata": {},
   "outputs": [],
   "source": [
    "from bokeh.plotting import show\n",
    "from bokeh.io import output_notebook\n",
    "#output_notebook()\n",
    "\n",
    "show(plots)\n"
   ]
  },
  {
   "cell_type": "code",
   "execution_count": null,
   "metadata": {},
   "outputs": [],
   "source": [
    "import int_plot as ip\n",
    "filelist = ['/home/daniel_b/Documents/Summer_project/noise_10kSI_MASP.h5',\n",
    "             '/home/daniel_b/Documents/Summer_project/noise_10kSI_MASP.h5',\n",
    "             '/home/daniel_b/Documents/Summer_project/noise_10kSI_MASP.h5']\n",
    "\n",
    "t = ip.interactive_plot(filelist,'x','y')\n"
   ]
  },
  {
   "cell_type": "code",
   "execution_count": null,
   "metadata": {},
   "outputs": [],
   "source": [
    "show(t)"
   ]
  },
  {
   "cell_type": "code",
   "execution_count": null,
   "metadata": {},
   "outputs": [],
   "source": [
    "files_2 = ['/home/daniel_b/Documents/Summer_project/beam50k_A2S.h5', \n",
    "           '/home/daniel_b/Documents/Summer_project/beam50k_A2S.h5',\n",
    "           '/home/daniel_b/Documents/Summer_project/beam50k_A2S.h5']\n",
    "y = ip.interactive_plot(files_2,'z_pos','std_y')\n",
    "show(y)"
   ]
  },
  {
   "cell_type": "code",
   "execution_count": null,
   "metadata": {
    "collapsed": true
   },
   "outputs": [],
   "source": []
  }
 ],
 "metadata": {
  "kernelspec": {
   "display_name": "Python 2",
   "language": "python",
   "name": "python2"
  },
  "language_info": {
   "codemirror_mode": {
    "name": "ipython",
    "version": 2
   },
   "file_extension": ".py",
   "mimetype": "text/x-python",
   "name": "python",
   "nbconvert_exporter": "python",
   "pygments_lexer": "ipython2",
   "version": "2.7.13"
  }
 },
 "nbformat": 4,
 "nbformat_minor": 2
}
